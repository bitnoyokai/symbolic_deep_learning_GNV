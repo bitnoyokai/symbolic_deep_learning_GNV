{
 "cells": [
  {
   "cell_type": "code",
   "execution_count": 1,
   "metadata": {},
   "outputs": [
    {
     "name": "stdout",
     "output_type": "stream",
     "text": [
      "       Unnamed: 0       e89        dx        dy         r        m1         m2\n",
      "0               0  0.734544 -0.046599 -2.075273  2.075796  0.151869   2.589533\n",
      "1               1  0.270417 -0.529381  0.137611  0.546975  0.151869   0.764438\n",
      "2               2 -0.052496 -0.589519  0.882530  1.061316  0.151869   2.722372\n",
      "3               3 -0.483839 -1.736288  0.470309  1.798858  0.151869   5.528524\n",
      "4               4 -0.698761  0.046599  2.075273  2.075796  2.589533   0.151869\n",
      "...           ...       ...       ...       ...       ...       ...        ...\n",
      "19995       19995  0.611558 -0.875394 -2.131566  2.304320  0.173771   0.664806\n",
      "19996       19996  0.273997  2.825666  1.241855  3.086518  0.664806   0.795343\n",
      "19997       19997  0.159040  0.114863  0.722587  0.731660  0.664806   0.623200\n",
      "19998       19998  0.061865  1.627035  0.881407  1.850438  0.664806  13.475355\n",
      "19999       19999 -0.599184  0.875394  2.131566  2.304320  0.664806   0.173771\n",
      "\n",
      "[20000 rows x 7 columns]\n"
     ]
    }
   ],
   "source": [
    "import numpy as np\n",
    "import pandas as pd\n",
    "\n",
    "# x = 2 * np.random.randn(100, 5)\n",
    "# y = 2.5382 * np.cos(x[:, 3]) + x[:, 3] ** 2 - 0.5\n",
    "\n",
    "df = pd.read_csv(\"spring_5_200.csv\")\n",
    "print(df)\n",
    "\n",
    "X = df[['dx', 'dy', 'r', 'm1', 'm2']]\n",
    "y = df[['e89']]"
   ]
  },
  {
   "cell_type": "code",
   "execution_count": 2,
   "metadata": {},
   "outputs": [
    {
     "name": "stderr",
     "output_type": "stream",
     "text": [
      "/Library/Frameworks/Python.framework/Versions/3.9/lib/python3.9/site-packages/pysr/sr.py:1226: UserWarning: Note: it looks like you are running in Jupyter. The progress bar will be turned off.\n",
      "  warnings.warn(\n"
     ]
    },
    {
     "data": {
      "text/html": [
       "<style>#sk-container-id-1 {color: black;background-color: white;}#sk-container-id-1 pre{padding: 0;}#sk-container-id-1 div.sk-toggleable {background-color: white;}#sk-container-id-1 label.sk-toggleable__label {cursor: pointer;display: block;width: 100%;margin-bottom: 0;padding: 0.3em;box-sizing: border-box;text-align: center;}#sk-container-id-1 label.sk-toggleable__label-arrow:before {content: \"▸\";float: left;margin-right: 0.25em;color: #696969;}#sk-container-id-1 label.sk-toggleable__label-arrow:hover:before {color: black;}#sk-container-id-1 div.sk-estimator:hover label.sk-toggleable__label-arrow:before {color: black;}#sk-container-id-1 div.sk-toggleable__content {max-height: 0;max-width: 0;overflow: hidden;text-align: left;background-color: #f0f8ff;}#sk-container-id-1 div.sk-toggleable__content pre {margin: 0.2em;color: black;border-radius: 0.25em;background-color: #f0f8ff;}#sk-container-id-1 input.sk-toggleable__control:checked~div.sk-toggleable__content {max-height: 200px;max-width: 100%;overflow: auto;}#sk-container-id-1 input.sk-toggleable__control:checked~label.sk-toggleable__label-arrow:before {content: \"▾\";}#sk-container-id-1 div.sk-estimator input.sk-toggleable__control:checked~label.sk-toggleable__label {background-color: #d4ebff;}#sk-container-id-1 div.sk-label input.sk-toggleable__control:checked~label.sk-toggleable__label {background-color: #d4ebff;}#sk-container-id-1 input.sk-hidden--visually {border: 0;clip: rect(1px 1px 1px 1px);clip: rect(1px, 1px, 1px, 1px);height: 1px;margin: -1px;overflow: hidden;padding: 0;position: absolute;width: 1px;}#sk-container-id-1 div.sk-estimator {font-family: monospace;background-color: #f0f8ff;border: 1px dotted black;border-radius: 0.25em;box-sizing: border-box;margin-bottom: 0.5em;}#sk-container-id-1 div.sk-estimator:hover {background-color: #d4ebff;}#sk-container-id-1 div.sk-parallel-item::after {content: \"\";width: 100%;border-bottom: 1px solid gray;flex-grow: 1;}#sk-container-id-1 div.sk-label:hover label.sk-toggleable__label {background-color: #d4ebff;}#sk-container-id-1 div.sk-serial::before {content: \"\";position: absolute;border-left: 1px solid gray;box-sizing: border-box;top: 0;bottom: 0;left: 50%;z-index: 0;}#sk-container-id-1 div.sk-serial {display: flex;flex-direction: column;align-items: center;background-color: white;padding-right: 0.2em;padding-left: 0.2em;position: relative;}#sk-container-id-1 div.sk-item {position: relative;z-index: 1;}#sk-container-id-1 div.sk-parallel {display: flex;align-items: stretch;justify-content: center;background-color: white;position: relative;}#sk-container-id-1 div.sk-item::before, #sk-container-id-1 div.sk-parallel-item::before {content: \"\";position: absolute;border-left: 1px solid gray;box-sizing: border-box;top: 0;bottom: 0;left: 50%;z-index: -1;}#sk-container-id-1 div.sk-parallel-item {display: flex;flex-direction: column;z-index: 1;position: relative;background-color: white;}#sk-container-id-1 div.sk-parallel-item:first-child::after {align-self: flex-end;width: 50%;}#sk-container-id-1 div.sk-parallel-item:last-child::after {align-self: flex-start;width: 50%;}#sk-container-id-1 div.sk-parallel-item:only-child::after {width: 0;}#sk-container-id-1 div.sk-dashed-wrapped {border: 1px dashed gray;margin: 0 0.4em 0.5em 0.4em;box-sizing: border-box;padding-bottom: 0.4em;background-color: white;}#sk-container-id-1 div.sk-label label {font-family: monospace;font-weight: bold;display: inline-block;line-height: 1.2em;}#sk-container-id-1 div.sk-label-container {text-align: center;}#sk-container-id-1 div.sk-container {/* jupyter's `normalize.less` sets `[hidden] { display: none; }` but bootstrap.min.css set `[hidden] { display: none !important; }` so we also need the `!important` here to be able to override the default hidden behavior on the sphinx rendered scikit-learn.org. See: https://github.com/scikit-learn/scikit-learn/issues/21755 */display: inline-block !important;position: relative;}#sk-container-id-1 div.sk-text-repr-fallback {display: none;}</style><div id=\"sk-container-id-1\" class=\"sk-top-container\"><div class=\"sk-text-repr-fallback\"><pre>PySRRegressor.equations_ = [\n",
       "\t   pick     score                                           equation  \\\n",
       "\t0        0.000000                                       0.0041677244   \n",
       "\t1        0.121868                                 (dy * -0.23715009)   \n",
       "\t2        0.112613                          ((dy - dx) * -0.21819872)   \n",
       "\t3        0.203038                    ((r * (dy - dx)) * -0.12218778)   \n",
       "\t4  &gt;&gt;&gt;&gt;  0.152719      (((dy - (dx * 0.6499078)) * -0.15485694) * r)   \n",
       "\t5        0.000827  ((((dy - (dx * 0.6499078)) * -0.15485694) * r)...   \n",
       "\t6        0.024899  (((dy - (dx - (0.494693 * dy))) * (-0.49040055...   \n",
       "\t7        0.020117  (((dy - (dx - (0.494693 * dy))) * ((-0.5548256...   \n",
       "\t8        0.069496  (((dy - (dx - (0.494693 * dy))) * (((-0.554825...   \n",
       "\t\n",
       "\t       loss  complexity  \n",
       "\t0  0.336622           1  \n",
       "\t1  0.263809           3  \n",
       "\t2  0.210608           5  \n",
       "\t3  0.140320           7  \n",
       "\t4  0.103388           9  \n",
       "\t5  0.103217          11  \n",
       "\t6  0.098203          13  \n",
       "\t7  0.094330          15  \n",
       "\t8  0.082089          17  \n",
       "]</pre><b>In a Jupyter environment, please rerun this cell to show the HTML representation or trust the notebook. <br />On GitHub, the HTML representation is unable to render, please try loading this page with nbviewer.org.</b></div><div class=\"sk-container\" hidden><div class=\"sk-item\"><div class=\"sk-estimator sk-toggleable\"><input class=\"sk-toggleable__control sk-hidden--visually\" id=\"sk-estimator-id-1\" type=\"checkbox\" checked><label for=\"sk-estimator-id-1\" class=\"sk-toggleable__label sk-toggleable__label-arrow\">PySRRegressor</label><div class=\"sk-toggleable__content\"><pre>PySRRegressor.equations_ = [\n",
       "\t   pick     score                                           equation  \\\n",
       "\t0        0.000000                                       0.0041677244   \n",
       "\t1        0.121868                                 (dy * -0.23715009)   \n",
       "\t2        0.112613                          ((dy - dx) * -0.21819872)   \n",
       "\t3        0.203038                    ((r * (dy - dx)) * -0.12218778)   \n",
       "\t4  &gt;&gt;&gt;&gt;  0.152719      (((dy - (dx * 0.6499078)) * -0.15485694) * r)   \n",
       "\t5        0.000827  ((((dy - (dx * 0.6499078)) * -0.15485694) * r)...   \n",
       "\t6        0.024899  (((dy - (dx - (0.494693 * dy))) * (-0.49040055...   \n",
       "\t7        0.020117  (((dy - (dx - (0.494693 * dy))) * ((-0.5548256...   \n",
       "\t8        0.069496  (((dy - (dx - (0.494693 * dy))) * (((-0.554825...   \n",
       "\t\n",
       "\t       loss  complexity  \n",
       "\t0  0.336622           1  \n",
       "\t1  0.263809           3  \n",
       "\t2  0.210608           5  \n",
       "\t3  0.140320           7  \n",
       "\t4  0.103388           9  \n",
       "\t5  0.103217          11  \n",
       "\t6  0.098203          13  \n",
       "\t7  0.094330          15  \n",
       "\t8  0.082089          17  \n",
       "]</pre></div></div></div></div></div>"
      ],
      "text/plain": [
       "PySRRegressor.equations_ = [\n",
       "\t   pick     score                                           equation  \\\n",
       "\t0        0.000000                                       0.0041677244   \n",
       "\t1        0.121868                                 (dy * -0.23715009)   \n",
       "\t2        0.112613                          ((dy - dx) * -0.21819872)   \n",
       "\t3        0.203038                    ((r * (dy - dx)) * -0.12218778)   \n",
       "\t4  >>>>  0.152719      (((dy - (dx * 0.6499078)) * -0.15485694) * r)   \n",
       "\t5        0.000827  ((((dy - (dx * 0.6499078)) * -0.15485694) * r)...   \n",
       "\t6        0.024899  (((dy - (dx - (0.494693 * dy))) * (-0.49040055...   \n",
       "\t7        0.020117  (((dy - (dx - (0.494693 * dy))) * ((-0.5548256...   \n",
       "\t8        0.069496  (((dy - (dx - (0.494693 * dy))) * (((-0.554825...   \n",
       "\t\n",
       "\t       loss  complexity  \n",
       "\t0  0.336622           1  \n",
       "\t1  0.263809           3  \n",
       "\t2  0.210608           5  \n",
       "\t3  0.140320           7  \n",
       "\t4  0.103388           9  \n",
       "\t5  0.103217          11  \n",
       "\t6  0.098203          13  \n",
       "\t7  0.094330          15  \n",
       "\t8  0.082089          17  \n",
       "]"
      ]
     },
     "execution_count": 2,
     "metadata": {},
     "output_type": "execute_result"
    }
   ],
   "source": [
    "from pysr import PySRRegressor\n",
    "\n",
    "model = PySRRegressor(\n",
    "    model_selection=\"best\",\n",
    "    niterations=200,\n",
    "    # binary_operators=[\"+\", \"*\"],\n",
    "    # unary_operators=[\"cos\", \"exp\", \"sin\", \"inv(x) = 1/x\"],\n",
    "    # extra_sympy_mappings={\"inv\": lambda x: 1/x},\n",
    "    loss=\"L1DistLoss()\",\n",
    "    batching=True\n",
    ")\n",
    "\n",
    "model.fit(X, y)"
   ]
  },
  {
   "cell_type": "code",
   "execution_count": 3,
   "metadata": {},
   "outputs": [
    {
     "name": "stdout",
     "output_type": "stream",
     "text": [
      "PySRRegressor.equations_ = [\n",
      "\t   pick     score                                           equation  \\\n",
      "\t0        0.000000                                       0.0041677244   \n",
      "\t1        0.121868                                 (dy * -0.23715009)   \n",
      "\t2        0.112613                          ((dy - dx) * -0.21819872)   \n",
      "\t3        0.203038                    ((r * (dy - dx)) * -0.12218778)   \n",
      "\t4  >>>>  0.152719      (((dy - (dx * 0.6499078)) * -0.15485694) * r)   \n",
      "\t5        0.000827  ((((dy - (dx * 0.6499078)) * -0.15485694) * r)...   \n",
      "\t6        0.024899  (((dy - (dx - (0.494693 * dy))) * (-0.49040055...   \n",
      "\t7        0.020117  (((dy - (dx - (0.494693 * dy))) * ((-0.5548256...   \n",
      "\t8        0.069496  (((dy - (dx - (0.494693 * dy))) * (((-0.554825...   \n",
      "\t\n",
      "\t       loss  complexity  \n",
      "\t0  0.336622           1  \n",
      "\t1  0.263809           3  \n",
      "\t2  0.210608           5  \n",
      "\t3  0.140320           7  \n",
      "\t4  0.103388           9  \n",
      "\t5  0.103217          11  \n",
      "\t6  0.098203          13  \n",
      "\t7  0.094330          15  \n",
      "\t8  0.082089          17  \n",
      "]\n"
     ]
    }
   ],
   "source": [
    "print(model)"
   ]
  },
  {
   "cell_type": "code",
   "execution_count": 4,
   "metadata": {},
   "outputs": [
    {
     "name": "stdout",
     "output_type": "stream",
     "text": [
      "\\usepackage{breqn}\n",
      "\\usepackage{booktabs}\n",
      "\n",
      "...\n",
      "\n",
      "\\begin{table}[h]\n",
      "\\begin{center}\n",
      "\\begin{tabular}{@{}cccc@{}}\n",
      "\\toprule\n",
      "Equation & Complexity & Loss & Score \\\\\n",
      "\\midrule\n",
      "$y = 0.00417$ & $1$ & $0.337$ & $0.0$ \\\\\n",
      "$y = - 0.237 dy$ & $3$ & $0.264$ & $0.122$ \\\\\n",
      "$y = 0.218 dx - 0.218 dy$ & $5$ & $0.211$ & $0.113$ \\\\\n",
      "$y = - 0.122 r \\left(- dx + dy\\right)$ & $7$ & $0.140$ & $0.203$ \\\\\n",
      "$y = r \\left(0.101 dx - 0.155 dy\\right)$ & $9$ & $0.103$ & $0.153$ \\\\\n",
      "$y = r \\left(0.101 dx - 0.155 dy\\right) + 0.00319$ & $11$ & $0.103$ & $0.000827$ \\\\\n",
      "\\begin{minipage}{0.8\\linewidth} \\vspace{-1em} \\begin{dmath*} y = - 0.133 \\left(- dx + 1.49 dy\\right) \\left(r - 0.490\\right) \\end{dmath*} \\end{minipage} & $13$ & $0.0982$ & $0.0249$ \\\\\n",
      "\\begin{minipage}{0.8\\linewidth} \\vspace{-1em} \\begin{dmath*} y = - 0.133 \\left(- dx + 1.49 dy\\right) \\left(r - \\frac{0.555}{r}\\right) \\end{dmath*} \\end{minipage} & $15$ & $0.0943$ & $0.0201$ \\\\\n",
      "\\begin{minipage}{0.8\\linewidth} \\vspace{-1em} \\begin{dmath*} y = - 0.133 \\left(- dx + 1.49 dy\\right) \\left(r - \\frac{0.771}{r}\\right) \\end{dmath*} \\end{minipage} & $17$ & $0.0821$ & $0.0695$ \\\\\n",
      "\\bottomrule\n",
      "\\end{tabular}\n",
      "\\end{center}\n",
      "\\end{table}\n"
     ]
    }
   ],
   "source": [
    "print(model.latex_table())"
   ]
  },
  {
   "cell_type": "code",
   "execution_count": 14,
   "metadata": {},
   "outputs": [
    {
     "data": {
      "image/png": "[encoded data removed]",
      "text/plain": [
       "<Figure size 432x288 with 1 Axes>"
      ]
     },
     "metadata": {
      "needs_background": "light"
     },
     "output_type": "display_data"
    }
   ],
   "source": [
    "import matplotlib.pyplot as plt\n",
    "\n",
    "plt.title(\"PySR Example\")\n",
    "plt.xlabel(\"x\")\n",
    "plt.ylabel(\"y\")\n",
    "plt.plot(x[:,3], y, 'ro', label=\"data\")\n",
    "\n",
    "def f(x):\n",
    "    y = x**2 + 2.54*np.cos(x) - 0.5\n",
    "    return y\n",
    "\n",
    "xf = np.arange(-5, +5, 0.1) \n",
    "plt.plot(xf, f(xf), 'b+', label=\"fit\")\n",
    "plt.show()"
   ]
  }
 ],
 "metadata": {
  "kernelspec": {
   "display_name": "Python 3.9.0 64-bit",
   "language": "python",
   "name": "python3"
  },
  "language_info": {
   "codemirror_mode": {
    "name": "ipython",
    "version": 3
   },
   "file_extension": ".py",
   "mimetype": "text/x-python",
   "name": "python",
   "nbconvert_exporter": "python",
   "pygments_lexer": "ipython3",
   "version": "3.9.0"
  },
  "vscode": {
   "interpreter": {
    "hash": "aee8b7b246df8f9039afb4144a1f6fd8d2ca17a180786b69acc140d282b71a49"
   }
  }
 },
 "nbformat": 4,
 "nbformat_minor": 4
}
